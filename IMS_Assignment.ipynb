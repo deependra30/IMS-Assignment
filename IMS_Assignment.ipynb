{
  "nbformat": 4,
  "nbformat_minor": 0,
  "metadata": {
    "colab": {
      "name": "IMS Assignment.ipynb",
      "provenance": [],
      "collapsed_sections": [],
      "toc_visible": true,
      "include_colab_link": true
    },
    "kernelspec": {
      "name": "python3",
      "display_name": "Python 3"
    },
    "language_info": {
      "name": "python"
    }
  },
  "cells": [
    {
      "cell_type": "markdown",
      "metadata": {
        "id": "view-in-github",
        "colab_type": "text"
      },
      "source": [
        "<a href=\"https://colab.research.google.com/github/deependra30/IMS-Assignment/blob/main/IMS_Assignment.ipynb\" target=\"_parent\"><img src=\"https://colab.research.google.com/assets/colab-badge.svg\" alt=\"Open In Colab\"/></a>"
      ]
    },
    {
      "cell_type": "markdown",
      "metadata": {
        "id": "E7p7bbaDXpbh"
      },
      "source": [
        "# RECORD OF **PRODUCTS**"
      ]
    },
    {
      "cell_type": "code",
      "metadata": {
        "id": "pt87nznT72Zx"
      },
      "source": [
        "record= {101 : {\"Name\": \"Fivestar\", \"Price\": 10, \"Quantity\" : 100,\"Company\" : \"Cadbury\", \"Best Before\" : \"5 months\"},\n",
        "        102 : {\"Name\": \"Eclairs\",  \"Price\": 1, \"Quantity\" : 500, \"Company\" : \"Cadbury\", \"Best Before\" : \"5 months\"},\n",
        "        103: {\"Name\": \"Diary Milk\", \"Price\": 20, \"Quantity\" : 200, \"Company\" : \"Cadbury\", \"Best Before\" : \"5 months\"},\n",
        "        104: {\"Name\": \"Bounty\", \"Price\": 50, \"Quantity\" : 100,  \"Company\" : \"PNG\", \"Best Before\" : \"5 months\"},\n",
        "        105: {\"Name\": \"Kinder Joy\" , \"Price\": 30, \"Quantity\" : 25 , \"Company\" : \"Ferrero\", \"Best Before\" : \"5 months\"},\n",
        "        106: {\"Name\": \"Oreo\", \"Price\": 10, \"Quantity\" : 50, \"Company\" : \"ITC\",\"Best Before\" : \"5 months\"},\n",
        "        107: {\"Name\": \"Dark Fantasy\", \"Price\": 30, \"Quantity\" : 20, \"Company\" : \"ITC\",\"Best Before\" : \"5 months\"},\n",
        "        108: {\"Name\": \"Hide and Seek\" , \"Price\": 10, \"Quantity\" : 20, \"Company\" : \"ITC\",\"Best Before\" : \"5 months\"},\n",
        "        109: {\"Name\": \"Gooday\", \"Price\": 10, \"Quantity\" : 20, \"Company\" : \"ITC\",\"Best Before\" : \"5 months\"},\n",
        "        110: {\"Name\": \"Parle G\", \"Price\": 5, \"Quantity\" : 20, \"Company\" : \"ITC\",\"Best Before\" : \"5 months\"},\n",
        "        111 : {\"Name\": \"Red velvet\" , \"Price\": 40, \"Quantity\" : 1, \"Company\" : \"Pillsbury\",\"Best Before\" : \"5 months\"},\n",
        "        112 : {\"Name\": \"Lavacake\", \"Price\": 35, \"Quantity\" : 1, \"Company\" : \"Pillsbury\",\"Best Before\" : \"NA\"},\n",
        "        113: {\"Name\": \"Death by Chocolate\" , \"Price\": 45, \"Quantity\" : 1, \"Company\" : \"Pillsbury\", \"Best Before\" : \"NA\"},\n",
        "        114: {\"Name\": \"butterscotch\", \"Price\": 40, \"Quantity\" : 1, \"Company\" : \"Pillsbury\",\"Best Before\" : \"NA\"},\n",
        "        115: {\"Name\": \"chocolatecake\", \"Price\": 35, \"Quantity\" : 1, \"Company\" : \"Pillsbury\", \"Best Before\" : \"NA\"},\n",
        "        116: {\"Name\": \"Lays\", \"Price\": 10, \"Quantity\" : 20, \"Company\" : \"ITC\", \"Best Before\" : \"1 month\"},\n",
        "        117: {\"Name\": \"kurkure\", \"Price\": 10, \"Quantity\" : 20, \"Company\" : \"ITC\", \"Best Before\" : \"1 month\"},\n",
        "        118: {\"Name\": \"bingo\", \"Price\": 10, \"Quantity\" : 20, \"Company\" : \"ITC\", \"Best Before\" : \"1 month\"},\n",
        "        119: {\"Name\": \"moongdhal\"   , \"Price\": 10, \"Quantity\" : 20, \"Company\" : \"ITC\", \"Best Before\" : \"1 month\"},\n",
        "        120: {\"Name\": \"littlehearts\", \"Price\": 5, \"Quantity\" : 15, \"Company\" : \"ITC\", \"Best Before\" : \"1 month\"},\n",
        "        121 : {\"Name\": \"TooYum\" , \"Price\": 10, \"Quantity\" : 15, \"Company\" : \"ITC\", \"Best Before\" : \"1 month\"},\n",
        "        122 : {\"Name\": \"Samosa\", \"Price\": 10, \"Quantity\" : 10, \"Company\" : \"Pillsbury\", \"Best Before\" : \"NA\"},\n",
        "        123: {\"Name\": \"maggie\", \"Price\": 10, \"Quantity\" : 10, \"Company\" : \"Nestle\",  \"Best Before\" : \"1 month\"},\n",
        "        124: {\"Name\": \"eggpuff\", \"Price\": 15, \"Quantity\" : 10, \"Company\" : \"Pillsbury\", \"Best Before\" : \"NA\"},\n",
        "        125: {\"Name\": \"vegpuff\", \"Price\": 12, \"Quantity\" : 10, \"Company\" : \"Pillsbury\", \"Best Before\" : \"NA\"},\n",
        "        126: {\"Name\": \"bread\", \"Price\": 25, \"Quantity\" : 5, \"Company\" : \"Pillsbury\", \"Best Before\" : \"NA\"},\n",
        "        127: {\"Name\": \"sandwich\", \"Price\": 35, \"Quantity\" : 15, \"Company\" : \"Pillsbury\", \"Best Before\" : \"NA\"},\n",
        "        128: {\"Name\": \"icecream\", \"Price\": 50, \"Quantity\" : 50, \"Company\" : \"Amul\", \"Best Before\" : \"NA\"},\n",
        "        129: {\"Name\": \"juice\", \"Price\": 30, \"Quantity\" : 10, \"Company\" : \"Frootie\", \"Best Before\" : \"NA\"},\n",
        "        130: {\"Name\": \"Buns\", \"Price\": 20, \"Quantity\" : 10, \"Company\" : \"Pillsbury\", \"Best Before\" : \"NA\"}}"
      ],
      "execution_count": null,
      "outputs": []
    },
    {
      "cell_type": "code",
      "metadata": {
        "id": "53wnfStpW061"
      },
      "source": [
        "record"
      ],
      "execution_count": null,
      "outputs": []
    },
    {
      "cell_type": "code",
      "metadata": {
        "id": "AqS0VLi5W4G6"
      },
      "source": [
        "import json\n",
        "\n",
        "js = json.dumps(record)"
      ],
      "execution_count": null,
      "outputs": []
    },
    {
      "cell_type": "code",
      "metadata": {
        "id": "3QL9pWcuXAvd"
      },
      "source": [
        "js"
      ],
      "execution_count": null,
      "outputs": []
    },
    {
      "cell_type": "code",
      "metadata": {
        "id": "SpAgObqrXC_d"
      },
      "source": [
        "fd = open(\"record.json\",'w')\n",
        "fd.write(js)\n",
        "fd.close()"
      ],
      "execution_count": null,
      "outputs": []
    },
    {
      "cell_type": "code",
      "metadata": {
        "id": "HPlCJBNJXJD0"
      },
      "source": [
        "file = open(\"record.json\",'r')\n",
        "r = file.read()\n",
        "file.close()\n",
        "\n",
        "record = json.loads(r)"
      ],
      "execution_count": null,
      "outputs": []
    },
    {
      "cell_type": "code",
      "metadata": {
        "id": "46o4XT4qfYdH"
      },
      "source": [
        ""
      ],
      "execution_count": null,
      "outputs": []
    },
    {
      "cell_type": "code",
      "metadata": {
        "id": "tHkueG-efZn2"
      },
      "source": [
        ""
      ],
      "execution_count": null,
      "outputs": []
    },
    {
      "cell_type": "markdown",
      "metadata": {
        "id": "h-ClJE9dXNJa"
      },
      "source": [
        "# Adding new products"
      ]
    },
    {
      "cell_type": "code",
      "metadata": {
        "id": "oRQtTM71XvYk"
      },
      "source": [
        "prod_id = input(\"Enter product id: \")\n",
        "name = str(input(\"Enter product name: \"))\n",
        "price = str(input(\"Enter product price: \"))\n",
        "quantity = int(input(\"Enter quantity: \"))\n",
        "company = str(input(\"Enter Company name: \"))\n",
        "best_before = str(input(\"Enter best before: \"))\n",
        "record[prod_id] = {\"Name\":name,\"Price\":price,\"Quantity\":quantity,\"Company\":company,\"Best Before\":best_before}\n",
        "js = json.dumps(record)\n",
        "fd = open(\"record.json\",'w') \n",
        "fd.write(js)\n",
        "fd.close()"
      ],
      "execution_count": null,
      "outputs": []
    },
    {
      "cell_type": "code",
      "metadata": {
        "id": "fqVZjqdaYBWc"
      },
      "source": [
        "record"
      ],
      "execution_count": null,
      "outputs": []
    },
    {
      "cell_type": "markdown",
      "metadata": {
        "id": "eGuFsEj5YIhS"
      },
      "source": [
        "# Adding Multiple Section\n"
      ]
    },
    {
      "cell_type": "code",
      "metadata": {
        "id": "_5DWk5U6YREE"
      },
      "source": [
        "n = int(input(\"Enter the number of products to be added: \"))\n",
        "for i in range(n):\n",
        "  prod_id = input(\"Enter product id: \")\n",
        "  name = str(input(\"Enter product name: \"))\n",
        "  price = str(input(\"Enter product price: \"))\n",
        "  quantity = int(input(\"Enter quantity: \"))\n",
        "  company = str(input(\"Enter Company name: \"))\n",
        "  best_before = str(input(\"Enter best before: \"))\n",
        "  record[prod_id] = {\"Name\":name,\"Price\":price,\"Quantity\":quantity,\"Company\":company,\"Best Before\":best_before}\n",
        "  js = json.dumps(record)\n",
        "  fd = open(\"record.json\",'w') \n",
        "  fd.write(js)\n",
        "  fd.close()"
      ],
      "execution_count": null,
      "outputs": []
    },
    {
      "cell_type": "code",
      "metadata": {
        "id": "QLi1XzcnYz6o"
      },
      "source": [
        "file = open(\"record.json\",'r')\n",
        "r = file.read()\n",
        "file.close()\n",
        "record = json.loads(r)"
      ],
      "execution_count": null,
      "outputs": []
    },
    {
      "cell_type": "code",
      "metadata": {
        "id": "RK6m1pVOY52H"
      },
      "source": [
        "record"
      ],
      "execution_count": null,
      "outputs": []
    },
    {
      "cell_type": "code",
      "metadata": {
        "id": "39gbV4b6Y7lQ"
      },
      "source": [
        ""
      ],
      "execution_count": null,
      "outputs": []
    },
    {
      "cell_type": "markdown",
      "metadata": {
        "id": "H0K3--19ZEjq"
      },
      "source": [
        "# Deleting the PRODUCT"
      ]
    },
    {
      "cell_type": "code",
      "metadata": {
        "id": "Egmc5uK3S_-T"
      },
      "source": [
        "id = str(input(\"Enter the product id to delete: \"))\n",
        "if id in record:\n",
        "  del record[id]\n",
        "  print(\"\\nSuccessfully Deleted \",id)\n",
        "else:\n",
        "  print(\"Invalid ID\")"
      ],
      "execution_count": null,
      "outputs": []
    },
    {
      "cell_type": "code",
      "metadata": {
        "id": "JQ3RBPCOZT0R"
      },
      "source": [
        "record"
      ],
      "execution_count": null,
      "outputs": []
    },
    {
      "cell_type": "code",
      "metadata": {
        "id": "3N6MZXuEZXpD"
      },
      "source": [
        ""
      ],
      "execution_count": null,
      "outputs": []
    },
    {
      "cell_type": "markdown",
      "metadata": {
        "id": "-jlHjnBXZbx_"
      },
      "source": [
        "# Updating the Product Details"
      ]
    },
    {
      "cell_type": "code",
      "metadata": {
        "id": "rpKwSoq1Zj7z"
      },
      "source": [
        "prod_id = input(\"Enter product id to update: \")\n",
        "print(\"\\nEnter new details\\n\")\n",
        "name = str(input(\"Enter product name: \"))\n",
        "price = str(input(\"Enter product price: \"))\n",
        "quantity = int(input(\"Enter quantity: \"))\n",
        "company = str(input(\"Enter Company name: \"))\n",
        "best_before = str(input(\"Enter best before: \"))\n",
        "record[prod_id] = {\"Name\":name,\"Price\":price,\"Quantity\":quantity,\"Company\":company,\"Best Before\":best_before}\n",
        "js = json.dumps(record)\n",
        "fd = open(\"record.json\",'w') \n",
        "fd.write(js)\n",
        "fd.close()\n",
        "print(\"\\nSuccessfully updated\")"
      ],
      "execution_count": null,
      "outputs": []
    },
    {
      "cell_type": "code",
      "metadata": {
        "id": "pffOtFjSZ1zm"
      },
      "source": [
        "record\n"
      ],
      "execution_count": null,
      "outputs": []
    },
    {
      "cell_type": "markdown",
      "metadata": {
        "id": "VVTDFZWjaGm-"
      },
      "source": [
        "# Viewing the Products"
      ]
    },
    {
      "cell_type": "code",
      "metadata": {
        "id": "QrSm6fTyaNs7"
      },
      "source": [
        "file = open(\"record.json\",'r')\n",
        "r = file.read()\n",
        "file.close()\n",
        "record = json.loads(r)"
      ],
      "execution_count": null,
      "outputs": []
    },
    {
      "cell_type": "code",
      "metadata": {
        "id": "yidLsss6aS4E"
      },
      "source": [
        "print(\"***************************************\\n\")\n",
        "print(\"Product ID\".center(15)+\"PRODUCT NAME\".center(15)+\"\\n\")\n",
        "print(\"***************************************\\n\")\n",
        "for i in record:\n",
        "  print(str(i).center(15) +\"\\t\"+ str(record[i]['Name']).center(15) )"
      ],
      "execution_count": null,
      "outputs": []
    }
  ]
}